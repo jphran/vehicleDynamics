{
 "cells": [
  {
   "cell_type": "markdown",
   "metadata": {},
   "source": [
    "# General Models and Fns to Import"
   ]
  },
  {
   "cell_type": "markdown",
   "metadata": {},
   "source": [
    "### Models"
   ]
  },
  {
   "cell_type": "code",
   "execution_count": 2,
   "metadata": {},
   "outputs": [],
   "source": [
    "from dataclasses import dataclass, field\n",
    "\n",
    "@dataclass\n",
    "class TireModel:\n",
    "    \"\"\"A struct for tire data using SI units\"\"\"\n",
    "    name: str #include the compound\n",
    "    innerDiameter: float \n",
    "    outterDiameter: float \n",
    "    width: float \n",
    "    maxAccel: float \n",
    "    innerRadius: float = field(init=False)\n",
    "    outterRadius: float = field(init=False)\n",
    "        \n",
    "    def __post_init__(self):\n",
    "        self.innerRadius = self.innerDiameter / 2\n",
    "        self.outterRadius = self.outterDiameter / 2\n",
    "        \n",
    "\n",
    "@dataclass\n",
    "class VehicleModel:\n",
    "    \"\"\"A struct for vehicle data using SI units\"\"\"\n",
    "    name: str #year and type\n",
    "    mass: float \n",
    "    wheelDrive: int #num drive wheels\n",
    "    forcePerTire: float = field(init=False)\n",
    "    massPerTire: float = field(init=False) \n",
    "        \n",
    "    def __post_init__(self):\n",
    "        self.forcePerTire = (self.mass * 9.81) / 4\n",
    "        self.massPerTire = (self.mass / 4)\n",
    "        \n",
    "@dataclass\n",
    "class PowerPlantModel:\n",
    "    \"\"\"A struct for motor data using SI units\"\"\"\n",
    "    name: str \n",
    "    mass: float\n",
    "    peakTorque: float\n",
    "    contTorque: float\n",
    "    peakSpeed: float\n",
    "    contSpeed: float\n",
    "    peakPower: float\n",
    "    contPower: float\n",
    "    peakCurrent: float\n",
    "    contCurrent: float\n",
    "    voltage: float\n",
    "    efficiency: float\n",
    "        \n",
    "@dataclass\n",
    "class BatteryCellModel:\n",
    "    \"\"\"A struct for the smalles unit in accumulator (Hierachy Term: Accumulator -> Segment -> Module -> Cell)\"\"\"\n",
    "    name: str\n",
    "        \n",
    "        \n",
    "@dataclass\n",
    "class BatteryModuleModel:\n",
    "    \"\"\"A struct for the smallest string of cells in accumulator in SI units (Hierachy Term: Accumulator -> Segment -> Module -> Cell)\"\"\"\n",
    "    name: str\n",
    "    mass: float\n",
    "    series: int\n",
    "    parallel: int\n",
    "    nominalCapacity: float #[Wh]\n",
    "    peakDischargeCurrent: float\n",
    "    contDischargeCurrent: float\n",
    "    nominalVoltage: float\n",
    "    peakVoltage: float\n",
    "    peakDischargeC: float\n",
    "    contDischargeC: float\n",
    "    price: float\n",
    "    "
   ]
  },
  {
   "cell_type": "markdown",
   "metadata": {},
   "source": [
    "### Functions"
   ]
  },
  {
   "cell_type": "code",
   "execution_count": 1,
   "metadata": {},
   "outputs": [],
   "source": [
    "import math\n",
    "\n",
    "def inchToMeter(inches):\n",
    "    return inches * 0.0254\n",
    "\n",
    "def lbsToKg(pounds):\n",
    "    return pounds * 0.453592\n",
    "\n",
    "def rpmToRadPerSec(rpm):\n",
    "    return rpm * 2 * math.pi / 60\n",
    "\n",
    "def mPerSecToMph(mPerSec):\n",
    "    return mPerSec * 2.23694"
   ]
  },
  {
   "cell_type": "code",
   "execution_count": null,
   "metadata": {},
   "outputs": [],
   "source": []
  },
  {
   "cell_type": "code",
   "execution_count": null,
   "metadata": {},
   "outputs": [],
   "source": []
  }
 ],
 "metadata": {
  "kernelspec": {
   "display_name": "Python 3",
   "language": "python",
   "name": "python3"
  },
  "language_info": {
   "codemirror_mode": {
    "name": "ipython",
    "version": 3
   },
   "file_extension": ".py",
   "mimetype": "text/x-python",
   "name": "python",
   "nbconvert_exporter": "python",
   "pygments_lexer": "ipython3",
   "version": "3.7.6"
  }
 },
 "nbformat": 4,
 "nbformat_minor": 2
}
