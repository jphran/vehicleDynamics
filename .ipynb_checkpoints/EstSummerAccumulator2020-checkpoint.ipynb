{
 "cells": [
  {
   "cell_type": "code",
   "execution_count": 58,
   "metadata": {},
   "outputs": [],
   "source": [
    "run Models.ipynb"
   ]
  },
  {
   "cell_type": "code",
   "execution_count": 52,
   "metadata": {},
   "outputs": [],
   "source": [
    "import math"
   ]
  },
  {
   "cell_type": "code",
   "execution_count": 59,
   "metadata": {},
   "outputs": [],
   "source": [
    "#NOTE: we're using a guesstimate of 1.4 g's max traction on Hoosier R25B C2000 tires\n",
    "tire = TireModel('Hoosier R25B C2000'\n",
    "                 , inchToMeter(10.0)\n",
    "                 , inchToMeter(18)\n",
    "                 , inchToMeter(6)\n",
    "                 , 1.4 * 9.81)\n",
    "vehicle = VehicleModel('2020 Comp Year, Monocoque'\n",
    "                       , lbsToKg(459)\n",
    "                       , 2)\n",
    "motor = PowerPlantModel('Parker GVM210-100-QRW with MD-4A-80-053-00 drive'\n",
    "                        , lbsToKg(100)\n",
    "                        , 174\n",
    "                        , 80.4\n",
    "                        , rpmToRadPerSec(8000)\n",
    "                        , rpmToRadPerSec(5750)\n",
    "                        , 73.9e3\n",
    "                        , 48.4e3\n",
    "                        , 248.4\n",
    "                        , 100\n",
    "                        , 480\n",
    "                        , 95.8)\n",
    "module = BatteryModuleModel('Energus Li1x6p25RT'\n",
    "                           , .224\n",
    "                           , 1\n",
    "                           , 4\n",
    "                           , 36\n",
    "                           , 180\n",
    "                           , 50\n",
    "                           , 3.6\n",
    "                           , 4.2\n",
    "                           , 18\n",
    "                           , 5\n",
    "                           , 51.00)"
   ]
  },
  {
   "cell_type": "code",
   "execution_count": 34,
   "metadata": {},
   "outputs": [
    {
     "name": "stdout",
     "output_type": "stream",
     "text": [
      "Peak torque to road: 326.83 [Nm]\n"
     ]
    }
   ],
   "source": [
    "#finding max tractive force \n",
    "maxLongForcePerTire = vehicle.massPerTire * tire.maxAccel\n",
    "maxTorquePerTire = maxLongForcePerTire * tire.outterRadius\n",
    "maxTorqueToRoad = maxTorquePerTire * vehicle.wheelDrive\n",
    "print('Peak torque to road: %.2f [Nm]' % (maxTorqueToRoad))"
   ]
  },
  {
   "cell_type": "code",
   "execution_count": 35,
   "metadata": {},
   "outputs": [
    {
     "name": "stdout",
     "output_type": "stream",
     "text": [
      "Max gear ratio to slip: 1.88 [motor/final]\n"
     ]
    }
   ],
   "source": [
    "#finding gear ratio\n",
    "maxGearRatio = maxTorqueToRoad / motor.peakTorque\n",
    "print('Max gear ratio to slip: %.2f [motor/final]' % (maxGearRatio))"
   ]
  },
  {
   "cell_type": "code",
   "execution_count": 36,
   "metadata": {},
   "outputs": [
    {
     "name": "stdout",
     "output_type": "stream",
     "text": [
      "Max vehicle speed: 101.96 [m/s], 228.07 [mph]\n"
     ]
    }
   ],
   "source": [
    "#finding max vehicle speed\n",
    "maxVehicleSpeed = motor.peakSpeed / maxGearRatio * tire.outterRadius\n",
    "print('Max vehicle speed: %.2f [m/s], %.2f [mph]' % (maxVehicleSpeed, mPerSecToMph(maxVehicleSpeed)))"
   ]
  },
  {
   "cell_type": "code",
   "execution_count": 39,
   "metadata": {},
   "outputs": [
    {
     "name": "stdout",
     "output_type": "stream",
     "text": [
      "Peak current: 153.96 [Arms]\n",
      "Cont current: 100.83 [Arms]\n"
     ]
    }
   ],
   "source": [
    "#finding max and cont current to motor given max torque\n",
    "peakCurrent = motor.peakPower / motor.voltage\n",
    "contCurrent = motor.contPower / motor.voltage\n",
    "print('Peak current: %.2f [Arms]' % (peakCurrent))\n",
    "print('Cont current: %.2f [Arms]' % (contCurrent))"
   ]
  },
  {
   "cell_type": "code",
   "execution_count": 53,
   "metadata": {},
   "outputs": [
    {
     "name": "stdout",
     "output_type": "stream",
     "text": [
      "Num modules in parallel: 1\n"
     ]
    }
   ],
   "source": [
    "#finding #P modules in accumulator for peak current\n",
    "numParallel = peakCurrent / module.peakDischargeCurrent\n",
    "print('Num modules in parallel: %d' % (math.ceil(numParallel)))"
   ]
  },
  {
   "cell_type": "code",
   "execution_count": 60,
   "metadata": {},
   "outputs": [
    {
     "name": "stdout",
     "output_type": "stream",
     "text": [
      "Num modules in series: 115\n"
     ]
    }
   ],
   "source": [
    "#finding #S modules in accumulator for peak current\n",
    "numSeries = motor.voltage / module.peakVoltage / module.series\n",
    "print('Num modules in series: %d' % (math.ceil(numSeries)))"
   ]
  },
  {
   "cell_type": "code",
   "execution_count": 69,
   "metadata": {},
   "outputs": [
    {
     "name": "stdout",
     "output_type": "stream",
     "text": [
      "Runtime: 306.02 [s]\n"
     ]
    }
   ],
   "source": [
    "#run time (avg)\n",
    "runTimeHours = module.nominalCapacity * numSeries / motor.contPower\n",
    "print('Runtime: %.2f [s]' % (runTimeHours * 3600))"
   ]
  },
  {
   "cell_type": "code",
   "execution_count": null,
   "metadata": {},
   "outputs": [],
   "source": []
  },
  {
   "cell_type": "code",
   "execution_count": null,
   "metadata": {},
   "outputs": [],
   "source": []
  }
 ],
 "metadata": {
  "kernelspec": {
   "display_name": "Python 3",
   "language": "python",
   "name": "python3"
  },
  "language_info": {
   "codemirror_mode": {
    "name": "ipython",
    "version": 3
   },
   "file_extension": ".py",
   "mimetype": "text/x-python",
   "name": "python",
   "nbconvert_exporter": "python",
   "pygments_lexer": "ipython3",
   "version": "3.7.6"
  }
 },
 "nbformat": 4,
 "nbformat_minor": 4
}
