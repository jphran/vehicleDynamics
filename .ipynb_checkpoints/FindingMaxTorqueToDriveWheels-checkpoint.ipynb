{
 "cells": [
  {
   "cell_type": "markdown",
   "metadata": {},
   "source": [
    "# Finding maximum tractive force for Hoosier 18.0 x 6.0 - 10, R25B C2000 compound asphalt slicks on the Formula U 2020 vehicle\n",
    "\n",
    "## Assumptions:\n",
    "    - Slip Angle = 0 [deg]\n",
    "    - Optimal Slip Ratio [0.10 - 0.15]\n",
    "    - coeffStaticFrict = 0.72\n",
    "    - even force dist on tires\n"
   ]
  },
  {
   "cell_type": "markdown",
   "metadata": {},
   "source": [
    "## Definitions:\n",
    "### SAE J670 definition of slip ratio\n",
    "slipRatio = (angVel[rad/s] * effectiveRollingRad[rev/mile]) / (linVel[m/s] * cos(slipAng[deg])) - 1\n"
   ]
  },
  {
   "cell_type": "code",
   "execution_count": 8,
   "metadata": {},
   "outputs": [],
   "source": [
    "import numpy as np\n",
    "import matplotlib.pyplot as plt"
   ]
  },
  {
   "cell_type": "code",
   "execution_count": 9,
   "metadata": {},
   "outputs": [],
   "source": [
    "def inchToMeter(inches):\n",
    "    return inches * 0.0254\n",
    "\n",
    "def lbsToKg(pounds):\n",
    "    return pounds * 0.453592\n",
    "\n",
    "# car stats\n",
    "coeffStaticFrict = 0.72 #Big bad assumption of car tire on dry asphalt\n",
    "vehicleWeight = lbsToKg(459) #kg w/o driver\n",
    "tireRad = inchToMeter(18) # m\n",
    "tireWidth = inchToMeter(6) # m\n",
    "normalForcePerTire = vehicleWeight / 4 * 9.81 #N\n",
    "numDriveWheels = 2\n",
    "\n",
    "# motor stats\n"
   ]
  },
  {
   "cell_type": "code",
   "execution_count": 12,
   "metadata": {},
   "outputs": [
    {
     "name": "stdout",
     "output_type": "stream",
     "text": [
      "Max Torque to Rear Wheels:  336.1675598323545  [Nm]\n"
     ]
    }
   ],
   "source": [
    "maxForcePerTire = coeffStaticFrict * normalForcePerTire # N\n",
    "maxTorquePerTire = maxForcePerTire * tireRad #Nm\n",
    "maxTorqueTotal = maxTorquePerTire * numDriveWheels #Nm\n",
    "print('Max Torque to Rear Wheels: ', maxTorqueTotal, ' [Nm]')"
   ]
  },
  {
   "cell_type": "markdown",
   "metadata": {},
   "source": [
    "## Using McGill's 2019 data from acceleration event\n",
    "### assuming averages and linear and safety factor for a guestimate"
   ]
  },
  {
   "cell_type": "code",
   "execution_count": 17,
   "metadata": {},
   "outputs": [],
   "source": [
    "minTime = 3.687 #s\n",
    "dist = 75 #m\n",
    "# assuming linear velocity and constant accel\n",
    "velMax = 2 * dist / minTime \n",
    "avgAccel = velMax/minTime"
   ]
  },
  {
   "cell_type": "code",
   "execution_count": 24,
   "metadata": {},
   "outputs": [],
   "source": [
    "# mcgill car stats\n",
    "weight = 181 #kg\n",
    "numWheelDrive = 4\n",
    "#assuming even dist\n",
    "normForcePerTire = weight * 9.81 / 4\n",
    "#assuming same tires/rim setup as Form U"
   ]
  },
  {
   "cell_type": "code",
   "execution_count": 26,
   "metadata": {},
   "outputs": [
    {
     "name": "stdout",
     "output_type": "stream",
     "text": [
      "228.281011969352\n"
     ]
    }
   ],
   "source": [
    "#assuming ideal conditions (no resistance anywhere)\n",
    "forceTotal = weight*avgAccel\n",
    "torqueTotal = forceTotal * tireRad\n",
    "mcGillMaxTorqueTotal = torqueTotal / numWheelDrive\n",
    "print('McGill''s max toque to drive wheels: ', mcGillMaxTorqueTotal, ' [Nm]')\n"
   ]
  },
  {
   "cell_type": "code",
   "execution_count": null,
   "metadata": {},
   "outputs": [],
   "source": []
  }
 ],
 "metadata": {
  "kernelspec": {
   "display_name": "Python 3",
   "language": "python",
   "name": "python3"
  },
  "language_info": {
   "codemirror_mode": {
    "name": "ipython",
    "version": 3
   },
   "file_extension": ".py",
   "mimetype": "text/x-python",
   "name": "python",
   "nbconvert_exporter": "python",
   "pygments_lexer": "ipython3",
   "version": "3.7.4"
  }
 },
 "nbformat": 4,
 "nbformat_minor": 2
}
