{
 "cells": [
  {
   "cell_type": "markdown",
   "metadata": {},
   "source": [
    "# Finding ideal single drive train ratio for Formula U 2020 car\n",
    "### Using \n",
    "    - Parker GVM210-100-QRW A- Motor\n",
    "        - Stats @ 320 V (we're at 252.2 V)\n",
    "             - Rated Torque: 88.2 (peak 135) Nm\n",
    "             - Rated Speed: 1070 (peak 3200) RPM\n",
    "             \n",
    "    - Max tractive torque of tires (imported from FindingMaxTorqueToDriveWheels.ipynb)"
   ]
  },
  {
   "cell_type": "code",
   "execution_count": 3,
   "metadata": {},
   "outputs": [
    {
     "name": "stdout",
     "output_type": "stream",
     "text": [
      "Max Torque to Rear Wheels:  336.1675598323545  [Nm]\n",
      "McGills max toque to drive wheels:  228.281011969352\n"
     ]
    }
   ],
   "source": [
    "run FindingMaxTorqueToDriveWheels.ipynb"
   ]
  },
  {
   "cell_type": "code",
   "execution_count": 4,
   "metadata": {},
   "outputs": [
    {
     "name": "stdout",
     "output_type": "stream",
     "text": [
      "181\n"
     ]
    }
   ],
   "source": []
  },
  {
   "cell_type": "code",
   "execution_count": null,
   "metadata": {},
   "outputs": [],
   "source": []
  }
 ],
 "metadata": {
  "kernelspec": {
   "display_name": "Python 3",
   "language": "python",
   "name": "python3"
  },
  "language_info": {
   "codemirror_mode": {
    "name": "ipython",
    "version": 3
   },
   "file_extension": ".py",
   "mimetype": "text/x-python",
   "name": "python",
   "nbconvert_exporter": "python",
   "pygments_lexer": "ipython3",
   "version": "3.7.6"
  }
 },
 "nbformat": 4,
 "nbformat_minor": 2
}
